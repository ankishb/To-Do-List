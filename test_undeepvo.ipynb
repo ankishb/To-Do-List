{
  "nbformat": 4,
  "nbformat_minor": 0,
  "metadata": {
    "colab": {
      "name": "test-undeepvo.ipynb",
      "version": "0.3.2",
      "provenance": [],
      "collapsed_sections": [],
      "include_colab_link": true
    },
    "kernelspec": {
      "name": "python3",
      "display_name": "Python 3"
    }
  },
  "cells": [
    {
      "cell_type": "markdown",
      "metadata": {
        "id": "view-in-github",
        "colab_type": "text"
      },
      "source": [
        "<a href=\"https://colab.research.google.com/github/ankishb/To-Do-List/blob/master/test_undeepvo.ipynb\" target=\"_parent\"><img src=\"https://colab.research.google.com/assets/colab-badge.svg\" alt=\"Open In Colab\"/></a>"
      ]
    },
    {
      "metadata": {
        "id": "TC3eDVBt8XYH",
        "colab_type": "code",
        "colab": {}
      },
      "cell_type": "code",
      "source": [
        "import tensorflow as tf\n",
        "\n",
        "\n",
        "def spatial_transform(input_images, x_offset, wrap_mode='border', name='bilinear_sampler', **kwargs):\n",
        "    def _repeat(x, n_repeats):\n",
        "        with tf.variable_scope('_repeat'):\n",
        "            rep = tf.tile(tf.expand_dims(x, 1), [1, n_repeats])\n",
        "            return tf.reshape(rep, [-1])\n",
        "\n",
        "    def _interpolate(im, x, y):\n",
        "        with tf.variable_scope('_interpolate'):\n",
        "\n",
        "            # handle both texture border types\n",
        "            _edge_size = 0\n",
        "            if _wrap_mode == 'border':\n",
        "                _edge_size = 1\n",
        "                im = tf.pad(im, [[0, 0], [1, 1], [1, 1], [0, 0]], mode='CONSTANT')\n",
        "                x = x + _edge_size\n",
        "                y = y + _edge_size\n",
        "            elif _wrap_mode == 'edge':\n",
        "                _edge_size = 0\n",
        "            else:\n",
        "                return None\n",
        "\n",
        "            x = tf.clip_by_value(x, 0.0, _width_f - 1 + 2 * _edge_size)\n",
        "\n",
        "            x0_f = tf.floor(x)\n",
        "            y0_f = tf.floor(y)\n",
        "            x1_f = x0_f + 1\n",
        "\n",
        "            x0 = tf.cast(x0_f, tf.int32)\n",
        "            y0 = tf.cast(y0_f, tf.int32)\n",
        "            x1 = tf.cast(tf.minimum(x1_f, _width_f - 1 + 2 * _edge_size), tf.int32)\n",
        "\n",
        "            dim2 = (_width + 2 * _edge_size)\n",
        "            dim1 = (_width + 2 * _edge_size) * (_height + 2 * _edge_size)\n",
        "            base = _repeat(tf.range(_num_batch) * dim1, _height * _width)\n",
        "            base_y0 = base + y0 * dim2\n",
        "            idx_l = base_y0 + x0\n",
        "            idx_r = base_y0 + x1\n",
        "\n",
        "            im_flat = tf.reshape(im, tf.stack([-1, _num_channels]))\n",
        "\n",
        "            pix_l = tf.gather(im_flat, idx_l)\n",
        "            pix_r = tf.gather(im_flat, idx_r)\n",
        "\n",
        "            weight_l = tf.expand_dims(x1_f - x, 1)\n",
        "            weight_r = tf.expand_dims(x - x0_f, 1)\n",
        "\n",
        "            return weight_l * pix_l + weight_r * pix_r\n",
        "\n",
        "    def _transform(input_images, x_offset):\n",
        "        with tf.variable_scope('transform'):\n",
        "            # grid of (x_t, y_t, 1), eq (1) in ref [1]\n",
        "            x_t, y_t = tf.meshgrid(tf.linspace(0.0, _width_f - 1.0, _width),\n",
        "                                   tf.linspace(0.0, _height_f - 1.0, _height))\n",
        "\n",
        "            x_t_flat = tf.reshape(x_t, (1, -1))\n",
        "            y_t_flat = tf.reshape(y_t, (1, -1))\n",
        "\n",
        "            x_t_flat = tf.tile(x_t_flat, tf.stack([_num_batch, 1]))\n",
        "            y_t_flat = tf.tile(y_t_flat, tf.stack([_num_batch, 1]))\n",
        "\n",
        "            x_t_flat = tf.reshape(x_t_flat, [-1])\n",
        "            y_t_flat = tf.reshape(y_t_flat, [-1])\n",
        "\n",
        "            x_t_flat = x_t_flat + tf.reshape(x_offset, [-1]) * _width_f\n",
        "\n",
        "            input_transformed = _interpolate(input_images, x_t_flat, y_t_flat)\n",
        "\n",
        "            output = tf.reshape(\n",
        "                input_transformed, tf.stack([_num_batch, _height, _width, _num_channels]))\n",
        "            return output\n",
        "\n",
        "    with tf.variable_scope(name):\n",
        "        _num_batch = tf.shape(input_images)[0]\n",
        "        _height = tf.shape(input_images)[1]\n",
        "        _width = tf.shape(input_images)[2]\n",
        "        _num_channels = tf.shape(input_images)[3]\n",
        "\n",
        "        _height_f = tf.cast(_height, tf.float32)\n",
        "        _width_f = tf.cast(_width, tf.float32)\n",
        "\n",
        "        _wrap_mode = wrap_mode\n",
        "\n",
        "        output = _transform(input_images, x_offset)\n",
        "        return output\n"
      ],
      "execution_count": 0,
      "outputs": []
    },
    {
      "metadata": {
        "id": "FEkH1dZQ8cKu",
        "colab_type": "code",
        "colab": {}
      },
      "cell_type": "code",
      "source": [
        "img = tf.placeholder(shape=(None,5,5,3),dtype=\"float32\")\n",
        "off = tf.placeholder(shape=(None,5,5,1), dtype=\"float32\")\n",
        "\n",
        "spat = spatial_transform(img, off)"
      ],
      "execution_count": 0,
      "outputs": []
    },
    {
      "metadata": {
        "id": "hBHeRtmd9YW6",
        "colab_type": "code",
        "colab": {}
      },
      "cell_type": "code",
      "source": [
        "sess = tf.Session()\n",
        "\n",
        "sess.run(tf.global_variables_initializer())"
      ],
      "execution_count": 0,
      "outputs": []
    },
    {
      "metadata": {
        "id": "uBUWLyu29nrU",
        "colab_type": "code",
        "colab": {
          "base_uri": "https://localhost:8080/",
          "height": 34
        },
        "outputId": "5599caf0-897b-41e1-c1d1-0d4e28ae1eb7"
      },
      "cell_type": "code",
      "source": [
        "import numpy as np\n",
        "\n",
        "a = np.random.randn(1,5,5,3)\n",
        "b = np.random.randn(1,5,5,1)\n",
        "a.shape, b.shape"
      ],
      "execution_count": 7,
      "outputs": [
        {
          "output_type": "execute_result",
          "data": {
            "text/plain": [
              "((1, 5, 5, 3), (1, 5, 5, 1))"
            ]
          },
          "metadata": {
            "tags": []
          },
          "execution_count": 7
        }
      ]
    },
    {
      "metadata": {
        "id": "K-_32ryU90cC",
        "colab_type": "code",
        "colab": {}
      },
      "cell_type": "code",
      "source": [
        "out = sess.run([spat], feed_dict={img:a, off:b})"
      ],
      "execution_count": 0,
      "outputs": []
    },
    {
      "metadata": {
        "id": "CdJS5V1G-Ddb",
        "colab_type": "code",
        "colab": {
          "base_uri": "https://localhost:8080/",
          "height": 34
        },
        "outputId": "b2628074-81fc-4fa4-de3f-c3c7fd6a683a"
      },
      "cell_type": "code",
      "source": [
        "out[0].shape"
      ],
      "execution_count": 13,
      "outputs": [
        {
          "output_type": "execute_result",
          "data": {
            "text/plain": [
              "(1, 5, 5, 3)"
            ]
          },
          "metadata": {
            "tags": []
          },
          "execution_count": 13
        }
      ]
    },
    {
      "metadata": {
        "id": "yXiDsBol-aJR",
        "colab_type": "code",
        "colab": {}
      },
      "cell_type": "code",
      "source": [
        "import matplotlib.pyplot as plt\n",
        "%matplotlib inline"
      ],
      "execution_count": 0,
      "outputs": []
    },
    {
      "metadata": {
        "id": "e0std2ln-p6n",
        "colab_type": "code",
        "colab": {
          "base_uri": "https://localhost:8080/",
          "height": 300
        },
        "outputId": "9ac9c0df-652e-4ca4-fc5a-d982586783c4"
      },
      "cell_type": "code",
      "source": [
        "plt.imshow(a[0])"
      ],
      "execution_count": 16,
      "outputs": [
        {
          "output_type": "stream",
          "text": [
            "Clipping input data to the valid range for imshow with RGB data ([0..1] for floats or [0..255] for integers).\n"
          ],
          "name": "stderr"
        },
        {
          "output_type": "execute_result",
          "data": {
            "text/plain": [
              "<matplotlib.image.AxesImage at 0x7fc10da98c50>"
            ]
          },
          "metadata": {
            "tags": []
          },
          "execution_count": 16
        },
        {
          "output_type": "display_data",
          "data": {
            "image/png": "[encoded data removed]",
            "text/plain": [
              "<Figure size 432x288 with 1 Axes>"
            ]
          },
          "metadata": {
            "tags": []
          }
        }
      ]
    },
    {
      "metadata": {
        "id": "wvtnvKdp-v_g",
        "colab_type": "code",
        "colab": {
          "base_uri": "https://localhost:8080/",
          "height": 300
        },
        "outputId": "4bdefb63-1a7e-4f2d-edd6-5729c1e00cf0"
      },
      "cell_type": "code",
      "source": [
        "plt.imshow(out[0][0])"
      ],
      "execution_count": 17,
      "outputs": [
        {
          "output_type": "stream",
          "text": [
            "Clipping input data to the valid range for imshow with RGB data ([0..1] for floats or [0..255] for integers).\n"
          ],
          "name": "stderr"
        },
        {
          "output_type": "execute_result",
          "data": {
            "text/plain": [
              "<matplotlib.image.AxesImage at 0x7fc10da000f0>"
            ]
          },
          "metadata": {
            "tags": []
          },
          "execution_count": 17
        },
        {
          "output_type": "display_data",
          "data": {
            "image/png": "[encoded data removed]",
            "text/plain": [
              "<Figure size 432x288 with 1 Axes>"
            ]
          },
          "metadata": {
            "tags": []
          }
        }
      ]
    },
    {
      "metadata": {
        "id": "Pxx2QfIF-18J",
        "colab_type": "code",
        "colab": {
          "base_uri": "https://localhost:8080/",
          "height": 282
        },
        "outputId": "d4a66dcf-8b03-4f03-bc41-f2c2e1da5bac"
      },
      "cell_type": "code",
      "source": [
        "plt.imshow(b.reshape(5,5))"
      ],
      "execution_count": 19,
      "outputs": [
        {
          "output_type": "execute_result",
          "data": {
            "text/plain": [
              "<matplotlib.image.AxesImage at 0x7fc10d9a3fd0>"
            ]
          },
          "metadata": {
            "tags": []
          },
          "execution_count": 19
        },
        {
          "output_type": "display_data",
          "data": {
            "image/png": "[encoded data removed]",
            "text/plain": [
              "<Figure size 432x288 with 1 Axes>"
            ]
          },
          "metadata": {
            "tags": []
          }
        }
      ]
    },
    {
      "metadata": {
        "id": "eFwA-thl-6_N",
        "colab_type": "code",
        "colab": {}
      },
      "cell_type": "code",
      "source": [
        "from keras.layers import Lambda\n",
        "# from util import spatial_transform\n",
        "import keras.backend as K\n",
        "\n",
        "\n",
        "def spatial_transformation(inputs, sign):\n",
        "    def output_shape(input_shape):\n",
        "\n",
        "        return input_shape[0]\n",
        "\n",
        "    return Lambda(lambda x: spatial_transform(x[0], sign*x[1]), output_shape=output_shape)(inputs)\n",
        "\n",
        "\n",
        "def expand_dims(inputs, dimension):\n",
        "    def output_shape(input_shape):\n",
        "        shape = list(input_shape)\n",
        "\n",
        "        shape[3] = 1\n",
        "\n",
        "        return tuple(shape)\n",
        "\n",
        "    return Lambda(lambda x: K.expand_dims(inputs[:, :, :, dimension], 3), output_shape=output_shape)(inputs)\n",
        "\n",
        "\n",
        "def depth_to_disparity(inputs, baseline, focal_length):\n",
        "    def output_shape(input_shape):\n",
        "        return input_shape\n",
        "\n",
        "    return Lambda(lambda x: baseline * focal_length / x, output_shape=output_shape)(inputs)\n",
        "\n",
        "\n",
        "def disparity_difference(disparities):\n",
        "    def output_shape(input_shape):\n",
        "        return input_shape\n",
        "\n",
        "    return Lambda(lambda x: x[0] - x[1], output_shape=output_shape)(disparities)"
      ],
      "execution_count": 0,
      "outputs": []
    },
    {
      "metadata": {
        "id": "bcogBUCu_82_",
        "colab_type": "code",
        "colab": {}
      },
      "cell_type": "code",
      "source": [
        "# from keras.layers import Lambda\n",
        "from keras.losses import mean_absolute_error\n",
        "import keras.backend as K\n",
        "\n",
        "alpha = 0.85\n",
        "\n",
        "\n",
        "def ssim(x, y):\n",
        "    c1 = 0.01 ** 2\n",
        "    c2 = 0.03 ** 2\n",
        "\n",
        "    mu_x = K.mean(x, axis=-1)\n",
        "    mu_y = K.mean(y, axis=-1)\n",
        "\n",
        "    sigma_x = K.mean(x**2, axis=-1) - mu_x**2\n",
        "    sigma_y = K.mean(y**2, axis=-1) - mu_y**2\n",
        "    sigma_xy = K.mean(x * y, axis=-1) - mu_x * mu_y\n",
        "\n",
        "    ssim_n = (2 * mu_x * mu_y + c1) * (2 * sigma_xy + c2)\n",
        "    ssim_d = (mu_x ** 2 + mu_y ** 2 + c1) * (sigma_x + sigma_y + c2)\n",
        "\n",
        "    ssim_out = ssim_n / ssim_d\n",
        "\n",
        "    return K.clip((1-ssim_out)/2, 0, 1)\n",
        "    # return Lambda(lambda x: K.clip((1-x)/2, 0, 1))(ssim_out)\n",
        "\n",
        "\n",
        "def photometric_consistency_loss(y_true, y_pred):\n",
        "    return alpha*ssim(y_true, y_pred) + (1 - alpha)*mean_absolute_error(y_true, y_pred)"
      ],
      "execution_count": 0,
      "outputs": []
    },
    {
      "metadata": {
        "id": "bnIYigw6_g3J",
        "colab_type": "code",
        "colab": {}
      },
      "cell_type": "code",
      "source": [
        "from keras.optimizers import Adadelta\n",
        "from keras.models import Model\n",
        "from keras.layers import Conv2D, Conv2DTranspose, concatenate\n",
        "# from layers import depth_to_disparity, disparity_difference, expand_dims, spatial_transformation\n",
        "# from losses import photometric_consistency_loss\n",
        "\n",
        "\n",
        "class UnDeepVOModel(object):\n",
        "    def __init__(self, left_input, right_input, mode='train'):\n",
        "        # depth = baseline * focal / disparity\n",
        "        # depth = 0.54 * 721 / (1242 * disp)\n",
        "\n",
        "        self.baseline = 0.54  # meters\n",
        "\n",
        "        self.focal_length = 718.856 / 1241  # image width = 1241 (note: must scale using this number)\n",
        "\n",
        "        self.left = left_input\n",
        "\n",
        "        self.right = right_input\n",
        "\n",
        "        self.left_est = None\n",
        "\n",
        "        self.right_est = None\n",
        "\n",
        "        self.depthmap = None\n",
        "\n",
        "        self.depthmap_left = None\n",
        "\n",
        "        self.depthmap_right = None\n",
        "\n",
        "        self.disparity_left = None\n",
        "\n",
        "        self.disparity_right = None\n",
        "\n",
        "        self.disparity_diff_left = None\n",
        "\n",
        "        self.disparity_diff_right = None\n",
        "\n",
        "        self.right_to_left_disparity = None\n",
        "\n",
        "        self.left_to_right_disparity = None\n",
        "\n",
        "        self.model_input = None\n",
        "\n",
        "        self.model = None\n",
        "\n",
        "        self.depthmap = None\n",
        "\n",
        "        self.mode = mode\n",
        "\n",
        "        self.build_architecture()\n",
        "\n",
        "        self.build_outputs()\n",
        "\n",
        "        self.build_model()\n",
        "\n",
        "        if self.mode == 'test':\n",
        "            return\n",
        "\n",
        "    @staticmethod\n",
        "    def conv(input, channels, kernel_size, strides, activation='elu'):\n",
        "\n",
        "        return Conv2D(channels, kernel_size=kernel_size, strides=strides, padding='same', activation=activation)(input)\n",
        "\n",
        "    @staticmethod\n",
        "    def deconv(input, channels, kernel_size, scale):\n",
        "\n",
        "        return Conv2DTranspose(channels, kernel_size=kernel_size, strides=scale, padding='same')(input)\n",
        "\n",
        "    def conv_block(self, input, channels, kernel_size):\n",
        "        conv1 = self.conv(input, channels, kernel_size, 1)\n",
        "\n",
        "        conv2 = self.conv(conv1, channels, kernel_size, 2)\n",
        "\n",
        "        return conv2\n",
        "\n",
        "    def deconv_block(self, input, channels, kernel_size, skip):\n",
        "        deconv1 = self.deconv(input, channels, kernel_size, 2)\n",
        "\n",
        "        if skip is not None:\n",
        "            concat1 = concatenate([deconv1, skip], 3)\n",
        "        else:\n",
        "            concat1 = deconv1\n",
        "\n",
        "        iconv1 = self.conv(concat1, channels, kernel_size, 1)\n",
        "\n",
        "        return iconv1\n",
        "\n",
        "    def get_depth(self, input):\n",
        "        return self.conv(input, 2, 3, 1, 'sigmoid')\n",
        "\n",
        "    def build_architecture(self):\n",
        "        self.model_input = self.left\n",
        "\n",
        "        # encoder\n",
        "        conv1 = self.conv_block(self.model_input, 32, 7)\n",
        "        conv2 = self.conv_block(conv1, 64, 5)\n",
        "        conv3 = self.conv_block(conv2, 128, 3)\n",
        "        conv4 = self.conv_block(conv3, 256, 3)\n",
        "        conv5 = self.conv_block(conv4, 256, 3)\n",
        "        conv6 = self.conv_block(conv5, 256, 3)\n",
        "        conv7 = self.conv_block(conv6, 256, 3)\n",
        "\n",
        "        # skips\n",
        "        skip1 = conv1\n",
        "        skip2 = conv2\n",
        "        skip3 = conv3\n",
        "        skip4 = conv4\n",
        "        skip5 = conv5\n",
        "        skip6 = conv6\n",
        "\n",
        "        deconv7 = self.deconv_block(conv7, 256, 3, skip6)\n",
        "        deconv6 = self.deconv_block(deconv7, 256, 3, skip5)\n",
        "        deconv5 = self.deconv_block(deconv6, 256, 3, skip4)\n",
        "        deconv4 = self.deconv_block(deconv5, 128, 3, skip3)\n",
        "        deconv3 = self.deconv_block(deconv4, 64, 3, skip2)\n",
        "        deconv2 = self.deconv_block(deconv3, 32, 3, skip1)\n",
        "        deconv1 = self.deconv_block(deconv2, 16, 3, None)\n",
        "        \n",
        "        self.depthmap = self.get_depth(deconv1)\n",
        "\n",
        "    def build_outputs(self):\n",
        "\n",
        "        # store depthmaps\n",
        "        self.depthmap_left = expand_dims(self.depthmap, 0)\n",
        "        self.depthmap_right = expand_dims(self.depthmap, 1)\n",
        "\n",
        "        if self.mode == 'test':\n",
        "            return\n",
        "\n",
        "        # generate disparities\n",
        "        self.disparity_left = depth_to_disparity(self.depthmap_left, self.baseline, self.focal_length)\n",
        "        self.disparity_right = depth_to_disparity(self.depthmap_right, self.baseline, self.focal_length)\n",
        "\n",
        "        # generate estimates of left and right images\n",
        "        self.left_est = spatial_transformation([self.right, self.disparity_left], -1)\n",
        "        self.right_est = spatial_transformation([self.left, self.disparity_right], 1)\n",
        "\n",
        "        # generate left - right consistency\n",
        "        self.right_to_left_disparity = spatial_transformation([self.disparity_right, self.disparity_left], -1)\n",
        "        self.left_to_right_disparity = spatial_transformation([self.disparity_left, self.disparity_right], 1)\n",
        "        self.disparity_diff_left = disparity_difference([self.disparity_left, self.right_to_left_disparity])\n",
        "        self.disparity_diff_right = disparity_difference([self.disparity_right, self.left_to_right_disparity])\n",
        "\n",
        "    def build_model(self):\n",
        "        self.model = Model(inputs=[self.left, self.right], outputs=[self.left_est,\n",
        "                                                                    self.right_est,\n",
        "                                                                    self.disparity_diff_left,\n",
        "                                                                    self.disparity_diff_right])\n",
        "        self.model.compile(loss=[photometric_consistency_loss,\n",
        "                                 photometric_consistency_loss,\n",
        "                                 'mean_absolute_error',\n",
        "                                 'mean_absolute_error'],\n",
        "                           optimizer=Adadelta(),\n",
        "                           metrics=['accuracy'])\n"
      ],
      "execution_count": 0,
      "outputs": []
    },
    {
      "metadata": {
        "id": "dJM1XMIv_wu6",
        "colab_type": "code",
        "colab": {}
      },
      "cell_type": "code",
      "source": [
        "import os\n",
        "# from keras.utils import plot_model\n",
        "from keras import backend as K\n",
        "from keras.layers import Input\n",
        "# from undeepvo_model import UnDeepVOModel\n",
        "\n",
        "\n",
        "def main():\n",
        "\n",
        "    batch_size = 5\n",
        "    epochs = 100\n",
        "    # img_rows, img_cols = 128, 416\n",
        "    img_rows, img_cols = 128, 512\n",
        "    model_dir = 'models'\n",
        "    model_name = 'undeepvo'\n",
        "#     model_path = os.path.join(model_dir, model_name)\n",
        "\n",
        "    input_shape = (img_rows, img_cols, 3)\n",
        "\n",
        "    left_input = Input(input_shape)\n",
        "    right_input = Input(input_shape)\n",
        "\n",
        "    model = UnDeepVOModel(left_input, right_input)\n",
        "\n",
        "    print( model.model.summary())\n",
        "    return model"
      ],
      "execution_count": 0,
      "outputs": []
    },
    {
      "metadata": {
        "id": "RSX2GoXQAYEj",
        "colab_type": "code",
        "colab": {
          "base_uri": "https://localhost:8080/",
          "height": 1997
        },
        "outputId": "0411e205-0c31-4427-9244-f616b2201174"
      },
      "cell_type": "code",
      "source": [
        "model = main()"
      ],
      "execution_count": 29,
      "outputs": [
        {
          "output_type": "stream",
          "text": [
            "__________________________________________________________________________________________________\n",
            "Layer (type)                    Output Shape         Param #     Connected to                     \n",
            "==================================================================================================\n",
            "input_3 (InputLayer)            (None, 128, 512, 3)  0                                            \n",
            "__________________________________________________________________________________________________\n",
            "conv2d_23 (Conv2D)              (None, 128, 512, 32) 4736        input_3[0][0]                    \n",
            "__________________________________________________________________________________________________\n",
            "conv2d_24 (Conv2D)              (None, 64, 256, 32)  50208       conv2d_23[0][0]                  \n",
            "__________________________________________________________________________________________________\n",
            "conv2d_25 (Conv2D)              (None, 64, 256, 64)  51264       conv2d_24[0][0]                  \n",
            "__________________________________________________________________________________________________\n",
            "conv2d_26 (Conv2D)              (None, 32, 128, 64)  102464      conv2d_25[0][0]                  \n",
            "__________________________________________________________________________________________________\n",
            "conv2d_27 (Conv2D)              (None, 32, 128, 128) 73856       conv2d_26[0][0]                  \n",
            "__________________________________________________________________________________________________\n",
            "conv2d_28 (Conv2D)              (None, 16, 64, 128)  147584      conv2d_27[0][0]                  \n",
            "__________________________________________________________________________________________________\n",
            "conv2d_29 (Conv2D)              (None, 16, 64, 256)  295168      conv2d_28[0][0]                  \n",
            "__________________________________________________________________________________________________\n",
            "conv2d_30 (Conv2D)              (None, 8, 32, 256)   590080      conv2d_29[0][0]                  \n",
            "__________________________________________________________________________________________________\n",
            "conv2d_31 (Conv2D)              (None, 8, 32, 256)   590080      conv2d_30[0][0]                  \n",
            "__________________________________________________________________________________________________\n",
            "conv2d_32 (Conv2D)              (None, 4, 16, 256)   590080      conv2d_31[0][0]                  \n",
            "__________________________________________________________________________________________________\n",
            "conv2d_33 (Conv2D)              (None, 4, 16, 256)   590080      conv2d_32[0][0]                  \n",
            "__________________________________________________________________________________________________\n",
            "conv2d_34 (Conv2D)              (None, 2, 8, 256)    590080      conv2d_33[0][0]                  \n",
            "__________________________________________________________________________________________________\n",
            "conv2d_35 (Conv2D)              (None, 2, 8, 256)    590080      conv2d_34[0][0]                  \n",
            "__________________________________________________________________________________________________\n",
            "conv2d_36 (Conv2D)              (None, 1, 4, 256)    590080      conv2d_35[0][0]                  \n",
            "__________________________________________________________________________________________________\n",
            "conv2d_transpose_8 (Conv2DTrans (None, 2, 8, 256)    590080      conv2d_36[0][0]                  \n",
            "__________________________________________________________________________________________________\n",
            "concatenate_7 (Concatenate)     (None, 2, 8, 512)    0           conv2d_transpose_8[0][0]         \n",
            "                                                                 conv2d_34[0][0]                  \n",
            "__________________________________________________________________________________________________\n",
            "conv2d_37 (Conv2D)              (None, 2, 8, 256)    1179904     concatenate_7[0][0]              \n",
            "__________________________________________________________________________________________________\n",
            "conv2d_transpose_9 (Conv2DTrans (None, 4, 16, 256)   590080      conv2d_37[0][0]                  \n",
            "__________________________________________________________________________________________________\n",
            "concatenate_8 (Concatenate)     (None, 4, 16, 512)   0           conv2d_transpose_9[0][0]         \n",
            "                                                                 conv2d_32[0][0]                  \n",
            "__________________________________________________________________________________________________\n",
            "conv2d_38 (Conv2D)              (None, 4, 16, 256)   1179904     concatenate_8[0][0]              \n",
            "__________________________________________________________________________________________________\n",
            "conv2d_transpose_10 (Conv2DTran (None, 8, 32, 256)   590080      conv2d_38[0][0]                  \n",
            "__________________________________________________________________________________________________\n",
            "concatenate_9 (Concatenate)     (None, 8, 32, 512)   0           conv2d_transpose_10[0][0]        \n",
            "                                                                 conv2d_30[0][0]                  \n",
            "__________________________________________________________________________________________________\n",
            "conv2d_39 (Conv2D)              (None, 8, 32, 256)   1179904     concatenate_9[0][0]              \n",
            "__________________________________________________________________________________________________\n",
            "conv2d_transpose_11 (Conv2DTran (None, 16, 64, 128)  295040      conv2d_39[0][0]                  \n",
            "__________________________________________________________________________________________________\n",
            "concatenate_10 (Concatenate)    (None, 16, 64, 256)  0           conv2d_transpose_11[0][0]        \n",
            "                                                                 conv2d_28[0][0]                  \n",
            "__________________________________________________________________________________________________\n",
            "conv2d_40 (Conv2D)              (None, 16, 64, 128)  295040      concatenate_10[0][0]             \n",
            "__________________________________________________________________________________________________\n",
            "conv2d_transpose_12 (Conv2DTran (None, 32, 128, 64)  73792       conv2d_40[0][0]                  \n",
            "__________________________________________________________________________________________________\n",
            "concatenate_11 (Concatenate)    (None, 32, 128, 128) 0           conv2d_transpose_12[0][0]        \n",
            "                                                                 conv2d_26[0][0]                  \n",
            "__________________________________________________________________________________________________\n",
            "conv2d_41 (Conv2D)              (None, 32, 128, 64)  73792       concatenate_11[0][0]             \n",
            "__________________________________________________________________________________________________\n",
            "conv2d_transpose_13 (Conv2DTran (None, 64, 256, 32)  18464       conv2d_41[0][0]                  \n",
            "__________________________________________________________________________________________________\n",
            "concatenate_12 (Concatenate)    (None, 64, 256, 64)  0           conv2d_transpose_13[0][0]        \n",
            "                                                                 conv2d_24[0][0]                  \n",
            "__________________________________________________________________________________________________\n",
            "conv2d_42 (Conv2D)              (None, 64, 256, 32)  18464       concatenate_12[0][0]             \n",
            "__________________________________________________________________________________________________\n",
            "conv2d_transpose_14 (Conv2DTran (None, 128, 512, 16) 4624        conv2d_42[0][0]                  \n",
            "__________________________________________________________________________________________________\n",
            "conv2d_43 (Conv2D)              (None, 128, 512, 16) 2320        conv2d_transpose_14[0][0]        \n",
            "__________________________________________________________________________________________________\n",
            "conv2d_44 (Conv2D)              (None, 128, 512, 2)  290         conv2d_43[0][0]                  \n",
            "__________________________________________________________________________________________________\n",
            "lambda_11 (Lambda)              (None, 128, 512, 1)  0           conv2d_44[0][0]                  \n",
            "__________________________________________________________________________________________________\n",
            "lambda_12 (Lambda)              (None, 128, 512, 1)  0           conv2d_44[0][0]                  \n",
            "__________________________________________________________________________________________________\n",
            "lambda_13 (Lambda)              (None, 128, 512, 1)  0           lambda_11[0][0]                  \n",
            "__________________________________________________________________________________________________\n",
            "lambda_14 (Lambda)              (None, 128, 512, 1)  0           lambda_12[0][0]                  \n",
            "__________________________________________________________________________________________________\n",
            "input_4 (InputLayer)            (None, 128, 512, 3)  0                                            \n",
            "__________________________________________________________________________________________________\n",
            "lambda_17 (Lambda)              (None, 128, 512, 1)  0           lambda_14[0][0]                  \n",
            "                                                                 lambda_13[0][0]                  \n",
            "__________________________________________________________________________________________________\n",
            "lambda_18 (Lambda)              (None, 128, 512, 1)  0           lambda_13[0][0]                  \n",
            "                                                                 lambda_14[0][0]                  \n",
            "__________________________________________________________________________________________________\n",
            "lambda_15 (Lambda)              (None, 128, 512, 3)  0           input_4[0][0]                    \n",
            "                                                                 lambda_13[0][0]                  \n",
            "__________________________________________________________________________________________________\n",
            "lambda_16 (Lambda)              (None, 128, 512, 3)  0           input_3[0][0]                    \n",
            "                                                                 lambda_14[0][0]                  \n",
            "__________________________________________________________________________________________________\n",
            "lambda_19 (Lambda)              [(None, 128, 512, 1) 0           lambda_13[0][0]                  \n",
            "                                                                 lambda_17[0][0]                  \n",
            "__________________________________________________________________________________________________\n",
            "lambda_20 (Lambda)              [(None, 128, 512, 1) 0           lambda_14[0][0]                  \n",
            "                                                                 lambda_18[0][0]                  \n",
            "==================================================================================================\n",
            "Total params: 10,947,618\n",
            "Trainable params: 10,947,618\n",
            "Non-trainable params: 0\n",
            "__________________________________________________________________________________________________\n",
            "None\n"
          ],
          "name": "stdout"
        }
      ]
    },
    {
      "metadata": {
        "id": "a5WwWzTVAaMF",
        "colab_type": "code",
        "colab": {}
      },
      "cell_type": "code",
      "source": [
        "from keras.preprocessing.image import ImageDataGenerator\n",
        "import numpy as np\n",
        "\n",
        "\n",
        "def get_stereo_image_generators(train_folder, test_folder, img_rows=128, img_cols=512, batch_size=16, shuffle=True):\n",
        "    train_image_gen = ImageDataGenerator(rescale=1.0 / 255.0,\n",
        "                                         rotation_range=5,\n",
        "                                         shear_range=0.01,\n",
        "                                         zoom_range=0.01,\n",
        "                                         height_shift_range=0.01,\n",
        "                                         width_shift_range=0.01)\n",
        "\n",
        "    test_image_gen = ImageDataGenerator(rescale=1.0 / 255.0)\n",
        "\n",
        "    train_generator_left = train_image_gen.flow_from_directory(train_folder,\n",
        "                                                               target_size=(img_rows, img_cols),\n",
        "                                                               batch_size=batch_size,\n",
        "                                                               seed=10,\n",
        "                                                               shuffle=shuffle,\n",
        "                                                               classes=['left'],\n",
        "                                                               class_mode=None,\n",
        "                                                               follow_links=True)\n",
        "\n",
        "    train_generator_right = train_image_gen.flow_from_directory(train_folder,\n",
        "                                                                target_size=(img_rows, img_cols),\n",
        "                                                                batch_size=batch_size,\n",
        "                                                                seed=10,\n",
        "                                                                shuffle=shuffle,\n",
        "                                                                classes=['right'],\n",
        "                                                                class_mode=None,\n",
        "                                                                follow_links=True)\n",
        "\n",
        "    test_generator_left = test_image_gen.flow_from_directory(test_folder,\n",
        "                                                             target_size=(img_rows, img_cols),\n",
        "                                                             batch_size=batch_size,\n",
        "                                                             seed=10,\n",
        "                                                             shuffle=shuffle,\n",
        "                                                             classes=['left'],\n",
        "                                                             class_mode=None,\n",
        "                                                             follow_links=True)\n",
        "\n",
        "    test_generator_right = test_image_gen.flow_from_directory(test_folder,\n",
        "                                                              target_size=(img_rows, img_cols),\n",
        "                                                              batch_size=batch_size,\n",
        "                                                              seed=10,\n",
        "                                                              shuffle=shuffle,\n",
        "                                                              classes=['right'],\n",
        "                                                              class_mode=None,\n",
        "                                                              follow_links=True)\n",
        "\n",
        "    def train_generator_func():\n",
        "        while True:\n",
        "            left_image = train_generator_left.next()\n",
        "            right_image = train_generator_right.next()\n",
        "            yield [left_image, right_image], [left_image,\n",
        "                                              right_image,\n",
        "                                              np.zeros(shape=left_image.shape),\n",
        "                                              np.zeros(shape=right_image.shape)]\n",
        "\n",
        "    def test_generator_func():\n",
        "        while True:\n",
        "            left_image = test_generator_left.next()\n",
        "            right_image = test_generator_right.next()\n",
        "            yield [left_image, right_image], [left_image,\n",
        "                                              right_image,\n",
        "                                              np.zeros(shape=left_image.shape),\n",
        "                                              np.zeros(shape=right_image.shape)]\n",
        "\n",
        "    train_generator = train_generator_func()\n",
        "    test_generator = test_generator_func()\n",
        "    train_length = len(train_generator_left.filenames)\n",
        "    test_length = len(test_generator_left.filenames)\n",
        "\n",
        "    return train_generator, test_generator, train_length, test_length"
      ],
      "execution_count": 0,
      "outputs": []
    },
    {
      "metadata": {
        "id": "yZSIBrAtBo_4",
        "colab_type": "code",
        "colab": {}
      },
      "cell_type": "code",
      "source": [
        "# from layers import spatial_transformation\n",
        "import matplotlib.image as mpimg\n",
        "import numpy as np\n",
        "from keras import backend as K\n",
        "# from image_loader import get_stereo_image_generators\n",
        "import matplotlib.pyplot as plt\n",
        "\n",
        "img_rows, img_cols = 128, 512\n",
        "\n",
        "# image_generator = get_stereo_image_generators('data/dataset/sequences/02/', batch_size=1, shuffle=True)\n",
        "# img = image_generator.__next__()\n",
        "\n",
        "# spatial transformation lambda layer test\n"
      ],
      "execution_count": 0,
      "outputs": []
    },
    {
      "metadata": {
        "id": "fDeJsnPuCdFe",
        "colab_type": "code",
        "colab": {
          "base_uri": "https://localhost:8080/",
          "height": 34
        },
        "outputId": "2b17a8f8-c51f-4c4f-8009-53ff7825d5fc"
      },
      "cell_type": "code",
      "source": [
        "import pandas as pd\n",
        "\n",
        "df = pd.read_csv('sample_data/mnist_train_small.csv')\n",
        "df.shape"
      ],
      "execution_count": 34,
      "outputs": [
        {
          "output_type": "execute_result",
          "data": {
            "text/plain": [
              "(19999, 785)"
            ]
          },
          "metadata": {
            "tags": []
          },
          "execution_count": 34
        }
      ]
    },
    {
      "metadata": {
        "id": "tXqnMZPpCyjw",
        "colab_type": "code",
        "colab": {
          "base_uri": "https://localhost:8080/",
          "height": 72
        },
        "outputId": "06a7137a-71e0-4489-ebd6-9813fef01e18"
      },
      "cell_type": "code",
      "source": [
        "img = df.iloc[0]\n",
        "img = img[1:].reshape(28,28)"
      ],
      "execution_count": 39,
      "outputs": [
        {
          "output_type": "stream",
          "text": [
            "/usr/local/lib/python3.6/dist-packages/ipykernel_launcher.py:2: FutureWarning: reshape is deprecated and will raise in a subsequent release. Please use .values.reshape(...) instead\n",
            "  \n"
          ],
          "name": "stderr"
        }
      ]
    },
    {
      "metadata": {
        "id": "aCVIGqN7C3uO",
        "colab_type": "code",
        "colab": {
          "base_uri": "https://localhost:8080/",
          "height": 337
        },
        "outputId": "08f788d0-5dc5-4b8e-eb7c-4e08815fcf32"
      },
      "cell_type": "code",
      "source": [
        "plt.imshow(img[1:].reshape(28,28))"
      ],
      "execution_count": 38,
      "outputs": [
        {
          "output_type": "stream",
          "text": [
            "/usr/local/lib/python3.6/dist-packages/ipykernel_launcher.py:1: FutureWarning: reshape is deprecated and will raise in a subsequent release. Please use .values.reshape(...) instead\n",
            "  \"\"\"Entry point for launching an IPython kernel.\n"
          ],
          "name": "stderr"
        },
        {
          "output_type": "execute_result",
          "data": {
            "text/plain": [
              "<matplotlib.image.AxesImage at 0x7fc10c132b70>"
            ]
          },
          "metadata": {
            "tags": []
          },
          "execution_count": 38
        },
        {
          "output_type": "display_data",
          "data": {
            "image/png": "[encoded data removed]",
            "text/plain": [
              "<Figure size 432x288 with 1 Axes>"
            ]
          },
          "metadata": {
            "tags": []
          }
        }
      ]
    },
    {
      "metadata": {
        "id": "rxgCQ_eGGG4c",
        "colab_type": "code",
        "colab": {
          "base_uri": "https://localhost:8080/",
          "height": 34
        },
        "outputId": "6a16a4b5-4101-4e02-e7de-31777e9f20e2"
      },
      "cell_type": "code",
      "source": [
        "512-242-243-1"
      ],
      "execution_count": 65,
      "outputs": [
        {
          "output_type": "execute_result",
          "data": {
            "text/plain": [
              "26"
            ]
          },
          "metadata": {
            "tags": []
          },
          "execution_count": 65
        }
      ]
    },
    {
      "metadata": {
        "id": "olguqC1RDs70",
        "colab_type": "code",
        "colab": {}
      },
      "cell_type": "code",
      "source": [
        "img1 = np.zeros((128,512))\n",
        "\n",
        "ii, jj = 0,0\n",
        "for i in range(51,128-50):\n",
        "    jj = 0\n",
        "    for j in range(243,512-242):\n",
        "#         print(i,j, ii, jj)\n",
        "        img1[i][j] = img[ii][jj]\n",
        "#         print(img[ii][jj])\n",
        "        jj += 1\n",
        "    ii += 1"
      ],
      "execution_count": 0,
      "outputs": []
    },
    {
      "metadata": {
        "id": "1fQDlLyBC38D",
        "colab_type": "code",
        "colab": {
          "base_uri": "https://localhost:8080/",
          "height": 170
        },
        "outputId": "9054a1d1-8694-462f-9bbb-01ca89e009ff"
      },
      "cell_type": "code",
      "source": [
        "img2 = np.repeat(img1,3).reshape(128,512,3)#.shape\n",
        "plt.imshow(img2)"
      ],
      "execution_count": 74,
      "outputs": [
        {
          "output_type": "stream",
          "text": [
            "Clipping input data to the valid range for imshow with RGB data ([0..1] for floats or [0..255] for integers).\n"
          ],
          "name": "stderr"
        },
        {
          "output_type": "execute_result",
          "data": {
            "text/plain": [
              "<matplotlib.image.AxesImage at 0x7fc10bddd898>"
            ]
          },
          "metadata": {
            "tags": []
          },
          "execution_count": 74
        },
        {
          "output_type": "display_data",
          "data": {
            "image/png": "[encoded data removed]",
            "text/plain": [
              "<Figure size 432x288 with 1 Axes>"
            ]
          },
          "metadata": {
            "tags": []
          }
        }
      ]
    },
    {
      "metadata": {
        "id": "1SyCvZLeCerh",
        "colab_type": "code",
        "colab": {
          "base_uri": "https://localhost:8080/",
          "height": 152
        },
        "outputId": "3075c5dd-9646-476d-ce5f-fe309b9816e0"
      },
      "cell_type": "code",
      "source": [
        "left_image = np.expand_dims(img2, axis=0)#img[0][0]\n",
        "disparity = 0.1 * np.ones((1, img_rows, img_cols, 1))\n",
        "\n",
        "disparity = K.variable(disparity)\n",
        "left_image = K.variable(left_image)\n",
        "\n",
        "right_image = spatial_transformation([left_image, disparity], 1)\n",
        "\n",
        "im_right = K.eval(right_image)\n",
        "plt.imshow(im_right[0])\n",
        "plt.show()"
      ],
      "execution_count": 77,
      "outputs": [
        {
          "output_type": "stream",
          "text": [
            "Clipping input data to the valid range for imshow with RGB data ([0..1] for floats or [0..255] for integers).\n"
          ],
          "name": "stderr"
        },
        {
          "output_type": "display_data",
          "data": {
            "image/png": "[encoded data removed]",
            "text/plain": [
              "<Figure size 432x288 with 1 Axes>"
            ]
          },
          "metadata": {
            "tags": []
          }
        }
      ]
    },
    {
      "metadata": {
        "id": "IO-Vw-wLH4cy",
        "colab_type": "code",
        "colab": {
          "base_uri": "https://localhost:8080/",
          "height": 152
        },
        "outputId": "2df06e9c-a3b9-4fe9-c054-694e6a907a82"
      },
      "cell_type": "code",
      "source": [
        "dis = 0.1 * np.ones((img_rows, img_cols))\n",
        "plt.imshow(dis)"
      ],
      "execution_count": 80,
      "outputs": [
        {
          "output_type": "execute_result",
          "data": {
            "text/plain": [
              "<matplotlib.image.AxesImage at 0x7fc10a0f0358>"
            ]
          },
          "metadata": {
            "tags": []
          },
          "execution_count": 80
        },
        {
          "output_type": "display_data",
          "data": {
            "image/png": "[encoded data removed]",
            "text/plain": [
              "<Figure size 432x288 with 1 Axes>"
            ]
          },
          "metadata": {
            "tags": []
          }
        }
      ]
    },
    {
      "metadata": {
        "id": "L2jUivRaIQ5K",
        "colab_type": "code",
        "colab": {
          "base_uri": "https://localhost:8080/",
          "height": 152
        },
        "outputId": "29659c7d-45b1-4ab2-b649-6008641e3f46"
      },
      "cell_type": "code",
      "source": [
        "left_image = np.expand_dims(img2, axis=0)#img[0][0]\n",
        "disparity = -0.3 * np.ones((1, img_rows, img_cols, 1))\n",
        "\n",
        "disparity = K.variable(disparity)\n",
        "left_image = K.variable(left_image)\n",
        "\n",
        "right_image = spatial_transformation([left_image, disparity], 1)\n",
        "\n",
        "im_right = K.eval(right_image)\n",
        "plt.imshow(im_right[0])\n",
        "plt.show()"
      ],
      "execution_count": 87,
      "outputs": [
        {
          "output_type": "stream",
          "text": [
            "Clipping input data to the valid range for imshow with RGB data ([0..1] for floats or [0..255] for integers).\n"
          ],
          "name": "stderr"
        },
        {
          "output_type": "display_data",
          "data": {
            "image/png": "[encoded data removed]",
            "text/plain": [
              "<Figure size 432x288 with 1 Axes>"
            ]
          },
          "metadata": {
            "tags": []
          }
        }
      ]
    },
    {
      "metadata": {
        "id": "uo89mA2PI4MR",
        "colab_type": "code",
        "colab": {
          "base_uri": "https://localhost:8080/",
          "height": 152
        },
        "outputId": "c1213988-b1f0-4814-920a-51c623094a48"
      },
      "cell_type": "code",
      "source": [
        "left_image = np.expand_dims(img2, axis=0)#img[0][0]\n",
        "disparity = 0.3 * np.ones((1, img_rows, img_cols, 1))\n",
        "\n",
        "disparity = K.variable(disparity)\n",
        "left_image = K.variable(left_image)\n",
        "\n",
        "right_image = spatial_transformation([left_image, disparity], 1)\n",
        "\n",
        "im_right = K.eval(right_image)\n",
        "plt.imshow(im_right[0])\n",
        "plt.show()"
      ],
      "execution_count": 88,
      "outputs": [
        {
          "output_type": "stream",
          "text": [
            "Clipping input data to the valid range for imshow with RGB data ([0..1] for floats or [0..255] for integers).\n"
          ],
          "name": "stderr"
        },
        {
          "output_type": "display_data",
          "data": {
            "image/png": "[encoded data removed]",
            "text/plain": [
              "<Figure size 432x288 with 1 Axes>"
            ]
          },
          "metadata": {
            "tags": []
          }
        }
      ]
    },
    {
      "metadata": {
        "id": "oPXkm6VYJK-w",
        "colab_type": "code",
        "colab": {}
      },
      "cell_type": "code",
      "source": [
        ""
      ],
      "execution_count": 0,
      "outputs": []
    }
  ]
}